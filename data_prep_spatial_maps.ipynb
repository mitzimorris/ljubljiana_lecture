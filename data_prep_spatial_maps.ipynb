{
 "cells": [
  {
   "cell_type": "markdown",
   "id": "e8db5b8a",
   "metadata": {
    "toc": true
   },
   "source": [
    "<h1>Table of Contents<span class=\"tocSkip\"></span></h1>\n",
    "<div class=\"toc\"><ul class=\"toc-item\"><li><span><a href=\"#Notebook-setup\" data-toc-modified-id=\"Notebook-setup-1\">Notebook setup</a></span></li><li><span><a href=\"#Python-libraries-for-geographic-data\" data-toc-modified-id=\"Python-libraries-for-geographic-data-2\">Python libraries for geographic data</a></span></li><li><span><a href=\"#Soil-uranium-parts-per-million\" data-toc-modified-id=\"Soil-uranium-parts-per-million-3\">Soil uranium parts per million</a></span><ul class=\"toc-item\"><li><span><a href=\"#Add-column-'Uppm'-to-GeoPandasDataFrame\" data-toc-modified-id=\"Add-column-'Uppm'-to-GeoPandasDataFrame-3.1\">Add column 'Uppm' to GeoPandasDataFrame</a></span></li></ul></li><li><span><a href=\"#From-areal-maps-to-graphs\" data-toc-modified-id=\"From-areal-maps-to-graphs-4\">From areal maps to graphs</a></span></li><li><span><a href=\"#Representing-the-neighborhood-network-as-an-adjacency-list\" data-toc-modified-id=\"Representing-the-neighborhood-network-as-an-adjacency-list-5\">Representing the neighborhood network as an adjacency list</a></span></li></ul></div>"
   ]
  },
  {
   "cell_type": "markdown",
   "id": "25776016",
   "metadata": {},
   "source": [
    "### Notebook setup"
   ]
  },
  {
   "cell_type": "code",
   "execution_count": null,
   "id": "d3e944cb",
   "metadata": {
    "tags": []
   },
   "outputs": [],
   "source": [
    "# import all libraries used in this notebook\n",
    "import os\n",
    "import numpy as np\n",
    "import pandas as pd\n",
    "# gis data\n",
    "import geopandas as gpd\n",
    "import libpysal as sa\n",
    "# plotting libs\n",
    "import matplotlib.pyplot as plt\n",
    "import splot as splt\n",
    "import plotnine as p9\n",
    "%matplotlib inline"
   ]
  },
  {
   "cell_type": "code",
   "execution_count": null,
   "id": "2fe0ea6e",
   "metadata": {
    "tags": []
   },
   "outputs": [],
   "source": [
    "# suppress plotnine warnings\n",
    "import warnings\n",
    "warnings.filterwarnings('ignore')\n",
    "# setup plotnine look and feel\n",
    "p9.theme_set(\n",
    "  p9.theme_grey() + \n",
    "  p9.theme(text=p9.element_text(size=10),\n",
    "        plot_title=p9.element_text(size=14),\n",
    "        axis_title_x=p9.element_text(size=12),\n",
    "        axis_title_y=p9.element_text(size=12),\n",
    "        axis_text_x=p9.element_text(size=8),\n",
    "        axis_text_y=p9.element_text(size=8)\n",
    "       )\n",
    ")\n",
    "xlabels_90 = p9.theme(axis_text_x = p9.element_text(angle=90, hjust=1))"
   ]
  },
  {
   "cell_type": "code",
   "execution_count": null,
   "id": "2534095e",
   "metadata": {},
   "outputs": [],
   "source": [
    "# keep notebook outputs clean - demos only\n",
    "import logging\n",
    "logging.getLogger('cmdstanpy').setLevel(logging.CRITICAL)"
   ]
  },
  {
   "cell_type": "markdown",
   "id": "9dbc22b3",
   "metadata": {},
   "source": [
    "### Python libraries for geographic data\n",
    "\n",
    "Geographic information systems (GIS) data is any item which has a geographic location, either a single point or a set of bounding polygons.  In order to manage, analyze, and visualize GIS data, we use specialized packages which can do the geographic math.  In this notebook we use the following packages:\n",
    "\n",
    "- GeoPandas - manages a set of GIS records in tabular format\n",
    "- libpysal - spatial analysis package which can analyze distance between locations\n",
    "- splot - plots for libpysal objects\n",
    "- plotnine - object `geom_map`\n",
    "\n",
    "Cartographic data (maps) are encoded as a set of records, one per map region.  The [shapefile format](https://en.wikipedia.org/wiki/Shapefile) is an open specification used to insure interoperatility among GIS software packages.  When items in a dataset contain location labels, it is necessary to obtain a set of shapefiles for the corresponding map.\n",
    "\n",
    "The shapefiles for US counties are available from the [US Census Bureau](https://www.census.gov/geographies/mapping-files/time-series/geo/carto-boundary-file.html).\n",
    "For this analysis, we are using shapefiles where the boundary information is specified with the lowest possible resolution; this greatly speeds up analysis and plotting.\n",
    "These can be downloaded via URL: https://www2.census.gov/geo/tiger/GENZ2018/shp/cb_2018_us_county_20m.zip"
   ]
  },
  {
   "cell_type": "code",
   "execution_count": null,
   "id": "5e92eb61",
   "metadata": {},
   "outputs": [],
   "source": [
    "shpfile = os.path.join('geo_data','cb_2018_us_county_20m', 'cb_2018_us_county_20m.shp')\n",
    "us_geodata = gpd.read_file(shpfile)\n",
    "print(type(us_geodata))\n",
    "us_geodata.head(3)"
   ]
  },
  {
   "cell_type": "markdown",
   "id": "001d972a",
   "metadata": {},
   "source": [
    "The GeoDataFrame object can be manipulated like a Pandas DataFrame object.\n",
    "\n",
    "For our analysis, we are only using data from the continental US.  We drop the records for Alaska, Hawaii, Puerto Rico, and the US Virgin Islands."
   ]
  },
  {
   "cell_type": "code",
   "execution_count": null,
   "id": "fa1f1d2f",
   "metadata": {},
   "outputs": [],
   "source": [
    "# no data on ALASKA ('02'), HAWAII ('15'), PR ('72'), USVI ('78')\n",
    "islands = ['02', '15', '72', '78']\n",
    "us_geodata = us_geodata[~us_geodata.STATEFP.isin(islands)]"
   ]
  },
  {
   "cell_type": "markdown",
   "id": "bf24ea2e",
   "metadata": {},
   "source": [
    "To see the result, we use plotnine's `geom_map` object."
   ]
  },
  {
   "cell_type": "code",
   "execution_count": null,
   "id": "1b549970",
   "metadata": {},
   "outputs": [],
   "source": [
    "(p9.ggplot()\n",
    " + p9.geom_map(data=us_geodata, fill='lightblue')\n",
    " + p9.theme(figure_size=(16, 9))\n",
    ")"
   ]
  },
  {
   "cell_type": "markdown",
   "id": "366bb753",
   "metadata": {},
   "source": [
    "### Soil uranium parts per million\n",
    "\n",
    "County-level measurements of soil uranium in parts per million is used as a predictor in the Gelman and Hill radon analysis.   This dataset comes from the book's website of data and codes."
   ]
  },
  {
   "cell_type": "code",
   "execution_count": null,
   "id": "ab8aec14",
   "metadata": {},
   "outputs": [],
   "source": [
    "us_uranium = pd.read_csv(os.path.join('data','raw_uranium.csv'),\n",
    "                        usecols=['stfips', 'ctfips', 'st', 'cty', 'Uppm'],\n",
    "                        skipinitialspace=True,\n",
    "                        ).drop_duplicates().convert_dtypes()\n",
    "us_uranium.head(3)"
   ]
  },
  {
   "cell_type": "code",
   "execution_count": null,
   "id": "9bd8e4f3",
   "metadata": {
    "scrolled": true
   },
   "outputs": [],
   "source": [
    "print(f'median soil uranium level: {us_uranium.Uppm.median()}')\n",
    "print(f'average soil uranium level: {us_uranium.Uppm.mean()}')\n",
    "p9.ggplot(data=us_uranium, mapping=p9.aes(x='Uppm')) + p9.stats.stat_density(geom='line')"
   ]
  },
  {
   "cell_type": "markdown",
   "id": "18b9ab87",
   "metadata": {},
   "source": [
    "#### Add column 'Uppm' to GeoPandasDataFrame\n",
    "\n",
    "To visualize the soil levels of uranium (in parts per million), we merge the EPA soil uranium measurements into the GeoPandasDataFrame. \n",
    "\n",
    "In order to do a database-style join on the two tables, we need to first add a common key to both tables.\n",
    "[FIPS code](https://transition.fcc.gov/oet/info/maps/census/fips/fips.txt) are numbers which uniquely identify geographic areas. The GIS dataset combines the state and county FIPS codes into a national-level `GEOID`.\n",
    "We need to do the same for the uranium data.\n",
    "\n",
    "Once we have a common key, we add the county-level soil uranium levels to the GIS data via the [DataFrame.merge](https://pandas.pydata.org/docs/reference/api/pandas.DataFrame.merge.html) method."
   ]
  },
  {
   "cell_type": "code",
   "execution_count": null,
   "id": "67bfff57",
   "metadata": {},
   "outputs": [],
   "source": [
    "# create merge column\n",
    "us_uranium['FIPS'] = us_uranium.stfips*1000 + us_uranium.ctfips\n",
    "\n",
    "# GEOID should be numeric\n",
    "us_geodata = us_geodata.astype({'GEOID': 'int32'}, copy=False)\n",
    "\n",
    "# left join because Uranium dataset is missing one record\n",
    "us_geodata = us_geodata.merge(us_uranium, how='left', left_on='GEOID', right_on='FIPS')\n",
    "\n",
    "# cleanup missing value so that we can use column as fill value\n",
    "us_geodata = us_geodata.astype({'Uppm': 'float64'})\n",
    "us_geodata.Uppm.fillna(value=0, inplace=True)\n",
    "\n",
    "# drop columns for cleaner display\n",
    "us_geodata.drop(columns=['STATEFP','COUNTYFP', 'COUNTYNS', 'AFFGEOID', 'LSAD', 'ALAND', 'AWATER',\n",
    "                       'stfips', 'ctfips', 'cty', 'FIPS'], inplace=True)\n",
    "us_geodata.rename(columns={'st':'STATE','NAME': 'county'}, inplace=True)"
   ]
  },
  {
   "cell_type": "code",
   "execution_count": null,
   "id": "0c0eba05",
   "metadata": {},
   "outputs": [],
   "source": [
    "us_geodata.head(3)"
   ]
  },
  {
   "cell_type": "markdown",
   "id": "0dac0355",
   "metadata": {},
   "source": [
    "**Add log_uranium**\n",
    "\n",
    "Soil uranium levels are always positive, i.e., bounded by zero.  By working with the log uranium level, we have an variable whose range is unbounded.  This provides modeling flexibility, and improves Stan performance.\n",
    "\n",
    "For inference, we will use log_uranium.   Log of 0 is -inf, so we set 0 values to 0.1."
   ]
  },
  {
   "cell_type": "code",
   "execution_count": null,
   "id": "f6f7e990",
   "metadata": {},
   "outputs": [],
   "source": [
    "us_geodata['Uppm'] = us_geodata['Uppm'].where(us_geodata['Uppm'] > 0.1, other=0.1)\n",
    "us_geodata['log_uranium'] = np.log(us_geodata['Uppm'])"
   ]
  },
  {
   "cell_type": "markdown",
   "id": "97255a49",
   "metadata": {},
   "source": [
    "Now we plot our map, this time using the soil uranium levels as the fill color.\n",
    "The darkest purple colored areas have recorded soil uranium level of zero.\n",
    "This includes all of Connecticut."
   ]
  },
  {
   "cell_type": "code",
   "execution_count": null,
   "id": "ed6c2fbf",
   "metadata": {},
   "outputs": [],
   "source": [
    "(p9.ggplot()\n",
    " + p9.geom_map(data=us_geodata, mapping=p9.aes(fill='log_uranium'))\n",
    " + p9.scale_fill_cmap(cmap_name='plasma')\n",
    " + p9.theme(figure_size=(16, 9))\n",
    ")"
   ]
  },
  {
   "cell_type": "markdown",
   "id": "39aad01f",
   "metadata": {},
   "source": [
    "**Density plots, uranium levels US vs MN**\n",
    "\n",
    "Overall, the soil uranium levels are below the median soil uranium level in the US.  We overlay density plots of MN in green and the entire US in purple."
   ]
  },
  {
   "cell_type": "code",
   "execution_count": null,
   "id": "2f1a4f14",
   "metadata": {},
   "outputs": [],
   "source": [
    "mn_geodata = us_geodata[us_geodata['STATE']=='MN']\n",
    "\n",
    "(p9.ggplot() \n",
    " + p9.stats.stat_density(data=us_geodata, mapping=p9.aes(x='log_uranium'), geom='line', color='purple')\n",
    " + p9.stats.stat_density(data=mn_geodata, mapping=p9.aes(x='log_uranium'), geom='line', color='green')\n",
    ")"
   ]
  },
  {
   "cell_type": "markdown",
   "id": "d7033e48",
   "metadata": {},
   "source": [
    "**Geographic variation**\n",
    "\n",
    "If we plot just the counties in Minnesota, we see that there is a south to north and west to east decrease in soil uranium levels. "
   ]
  },
  {
   "cell_type": "code",
   "execution_count": null,
   "id": "012ff373",
   "metadata": {},
   "outputs": [],
   "source": [
    "(p9.ggplot()\n",
    " + p9.geom_map(data=mn_geodata, mapping=p9.aes(fill='log_uranium'))\n",
    " + p9.theme(figure_size=(10, 8))\n",
    " + p9.scale_fill_cmap(cmap_name='plasma',\n",
    "                      limits=[min(us_geodata.log_uranium),\n",
    "                              max(us_geodata.log_uranium)])  # same scale as entire US plot\n",
    ")"
   ]
  },
  {
   "cell_type": "markdown",
   "id": "ba604fd7",
   "metadata": {},
   "source": [
    "### From areal maps to graphs\n",
    "\n",
    "By defining a neighbor relationship between area regions, we convert a map to a graph.\n",
    "\n",
    "**Computing the neighborhood network with libpysal**\n",
    "\n",
    "We need to compute the adjacency network between the regions in our map.\n",
    "We do this with [libpysal](https://pysal.org/libpysal/), a Python library for spatial analysis, which we have imported as `sa`.\n",
    "To visualize this graph overlaid on the county map, we use [splot](https://splot.readthedocs.io/en/latest/), a lightweight visualization interface.\n",
    "\n",
    "There are several ways to define the neighbor relationship, see https://pysal.org/libpysal/api.html#spatial-weights.\n",
    "Here we use the *Rook* metric:  regions which share a common line boundary are neighbors.  This returns a spatial weights object, [weights.W](https://pysal.org/libpysal/generated/libpysal.weights.W.html#libpysal-weights-w)"
   ]
  },
  {
   "cell_type": "code",
   "execution_count": null,
   "id": "5bfb4862",
   "metadata": {},
   "outputs": [],
   "source": [
    "# neighbors are counties which have a common line boundary\n",
    "nb_mn = sa.weights.Rook(mn_geodata['geometry'])"
   ]
  },
  {
   "cell_type": "code",
   "execution_count": null,
   "id": "9b5378f6",
   "metadata": {},
   "outputs": [],
   "source": [
    "from splot.libpysal import plot_spatial_weights\n",
    "plot_spatial_weights(nb_mn, mn_geodata)"
   ]
  },
  {
   "cell_type": "code",
   "execution_count": null,
   "id": "2b2757f9",
   "metadata": {},
   "outputs": [],
   "source": [
    "print(f'nodes: {nb_mn.n}')\n",
    "print(f'number of components: {nb_mn.n_components}')\n",
    "print(f'islands? {nb_mn.islands}')\n",
    "print(f'max nmber of neighbors per node: {nb_mn.max_neighbors}')\n",
    "print(f'mean nmber of neighbors per node: {nb_mn.mean_neighbors}')"
   ]
  },
  {
   "cell_type": "code",
   "execution_count": null,
   "id": "9524da1c",
   "metadata": {},
   "outputs": [],
   "source": [
    "# plot histogram of number of neighbors per county\n",
    "(p9.ggplot()\n",
    " + p9.geom_histogram(mapping=p9.aes(x=list(nb_mn.cardinalities.values())),\n",
    "                     binwidth=1, fill='lightblue', color='blue')\n",
    " + p9.scales.scale_x_continuous(limits=(0,11), minor_breaks=None)\n",
    " + p9.xlab('Minnesota number of neighbors per county')\n",
    " + p9.ylab('')\n",
    ")"
   ]
  },
  {
   "cell_type": "markdown",
   "id": "6a3fcc3f",
   "metadata": {},
   "source": [
    "We can do the same visualization for the entire continental US."
   ]
  },
  {
   "cell_type": "code",
   "execution_count": null,
   "id": "1c05f8c3",
   "metadata": {},
   "outputs": [],
   "source": [
    "nb_us = sa.weights.Rook(us_geodata['geometry'])\n",
    "splt.libpysal.plot_spatial_weights(nb_us, us_geodata)"
   ]
  },
  {
   "cell_type": "code",
   "execution_count": null,
   "id": "86b24248",
   "metadata": {},
   "outputs": [],
   "source": [
    "print(f'nodes: {nb_us.n}')\n",
    "print(f'number of components: {nb_us.n_components}')\n",
    "print(f'islands? {nb_us.islands}')\n",
    "print(f'max nmber of neighbors per node: {nb_us.max_neighbors}')\n",
    "print(f'mean nmber of neighbors per node: {nb_us.mean_neighbors}')"
   ]
  },
  {
   "cell_type": "code",
   "execution_count": null,
   "id": "b0cfc560",
   "metadata": {},
   "outputs": [],
   "source": [
    "# plot histogram of number of neighbors per county\n",
    "(p9.ggplot()\n",
    " + p9.geom_histogram(\n",
    "     mapping=p9.aes(x=list(nb_us.cardinalities.values())),\n",
    "     binwidth= 1, fill='lightblue', color='blue')\n",
    " + p9.xlab('USA number of neighbors per county')\n",
    " + p9.ylab('')\n",
    ")"
   ]
  },
  {
   "cell_type": "markdown",
   "id": "c2a07340",
   "metadata": {},
   "source": [
    "### Representing the neighborhood network as an adjacency list\n",
    "\n",
    "We use the libpysal Weights object method [to_adjlist](https://pysal.org/libpysal/generated/libpysal.weights.W.html#libpysal.weights.W.to_adjlist) to extract neighbor information in the form of a list of adjacent nodes.\n",
    "All the indices are 0-based and match the order in which they occur in the GeoPandasDataFrame object `mn_geodata`, which is sorted by county name."
   ]
  },
  {
   "cell_type": "code",
   "execution_count": null,
   "id": "ece77dd3",
   "metadata": {},
   "outputs": [],
   "source": [
    "nm_adj =  nb_mn.to_adjlist(remove_symmetric=True)\n",
    "print(f'County name index 0? {mn_geodata.county.values[0]}')\n",
    "nm_adj.head(3)"
   ]
  },
  {
   "cell_type": "markdown",
   "id": "c32af982",
   "metadata": {},
   "source": [
    "To check our work, we first add labels to the map of Minnesota, then check that the adjacency graph corresponds to the map.\n",
    "\n",
    "We use plotnine's `geom_text` to add text labels to the center of each county.\n",
    "This requires computing the center of each county.\n",
    "The GeoDataFrame.geometry.centroid property has the center coordinates of polygons."
   ]
  },
  {
   "cell_type": "code",
   "execution_count": null,
   "id": "9a0bb5a9",
   "metadata": {},
   "outputs": [],
   "source": [
    "county_pts = mn_geodata.geometry.centroid.to_crs(mn_geodata.crs)\n",
    "\n",
    "(p9.ggplot()\n",
    " + p9.geom_map(data=mn_geodata, mapping=p9.aes(fill='log_uranium'))\n",
    " + p9.geom_text(mapping=p9.aes(x=county_pts.x, y=county_pts.y, label=list(mn_geodata.county)),\n",
    "                size=6, ha='center')\n",
    " + p9.scale_fill_cmap(cmap_name='plasma',\n",
    "                      limits=[min(us_geodata.log_uranium),\n",
    "                              max(us_geodata.log_uranium)])\n",
    " + p9.theme(figure_size=(10, 9))\n",
    ")"
   ]
  },
  {
   "cell_type": "markdown",
   "id": "b223221c",
   "metadata": {},
   "source": [
    "We expect 'Cook' county to have 1 neighbor, 'Lake' county."
   ]
  },
  {
   "cell_type": "code",
   "execution_count": null,
   "id": "55920abb",
   "metadata": {},
   "outputs": [],
   "source": [
    "print(f'Cook county: {mn_geodata[mn_geodata.county == \"Cook\"].index[0]}, Lake county: {mn_geodata[mn_geodata.county == \"Lake\"].index[0]}')\n",
    "nm_adj[nm_adj.focal == 15]"
   ]
  }
 ],
 "metadata": {
  "hide_input": false,
  "kernelspec": {
   "display_name": "Python 3",
   "language": "python",
   "name": "python3"
  },
  "language_info": {
   "codemirror_mode": {
    "name": "ipython",
    "version": 3
   },
   "file_extension": ".py",
   "mimetype": "text/x-python",
   "name": "python",
   "nbconvert_exporter": "python",
   "pygments_lexer": "ipython3",
   "version": "3.9.13"
  },
  "toc": {
   "base_numbering": 1,
   "nav_menu": {},
   "number_sections": false,
   "sideBar": true,
   "skip_h1_title": true,
   "title_cell": "Table of Contents",
   "title_sidebar": "Contents",
   "toc_cell": true,
   "toc_position": {},
   "toc_section_display": true,
   "toc_window_display": false
  }
 },
 "nbformat": 4,
 "nbformat_minor": 5
}
