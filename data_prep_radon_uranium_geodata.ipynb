{
 "cells": [
  {
   "cell_type": "markdown",
   "id": "5357dbf6",
   "metadata": {
    "toc": true
   },
   "source": [
    "<h1>Table of Contents<span class=\"tocSkip\"></span></h1>\n",
    "<div class=\"toc\"><ul class=\"toc-item\"><li><span><a href=\"#Align,-combine,-subset-EPA-radon,-uranium-data-and-US-Census-GIS-data\" data-toc-modified-id=\"Align,-combine,-subset-EPA-radon,-uranium-data-and-US-Census-GIS-data-1\">Align, combine, subset EPA radon, uranium data and US Census GIS data</a></span><ul class=\"toc-item\"><li><span><a href=\"#Notebook-setup\" data-toc-modified-id=\"Notebook-setup-1.1\">Notebook setup</a></span></li><li><span><a href=\"#State/EPA-Residiental-Survey-(SRRS)-datasets\" data-toc-modified-id=\"State/EPA-Residiental-Survey-(SRRS)-datasets-1.2\">State/EPA Residiental Survey (SRRS) datasets</a></span></li><li><span><a href=\"#US-census-county-boundaries-GIS-files\" data-toc-modified-id=\"US-census-county-boundaries-GIS-files-1.3\">US census county boundaries GIS files</a></span></li><li><span><a href=\"#EPA/State-Residential-Radon-Data\" data-toc-modified-id=\"EPA/State-Residential-Radon-Data-1.4\">EPA/State Residential Radon Data</a></span></li><li><span><a href=\"#US-county-soil-uranium-levels\" data-toc-modified-id=\"US-county-soil-uranium-levels-1.5\">US county soil uranium levels</a></span></li><li><span><a href=\"#Join-and-merge-tables-using-US-FIPS-codes\" data-toc-modified-id=\"Join-and-merge-tables-using-US-FIPS-codes-1.6\">Join and merge tables using US FIPS codes</a></span></li><li><span><a href=\"#County-level-information:---uranium,-number-of-homes-in-radon-survey,-census-county-name\" data-toc-modified-id=\"County-level-information:---uranium,-number-of-homes-in-radon-survey,-census-county-name-1.7\">County level information:   uranium, number of homes in radon survey, census county name</a></span></li><li><span><a href=\"#Restrict-dataset-to-Minnesota\" data-toc-modified-id=\"Restrict-dataset-to-Minnesota-1.8\">Restrict dataset to Minnesota</a></span></li></ul></li></ul></div>"
   ]
  },
  {
   "cell_type": "markdown",
   "id": "be869160",
   "metadata": {},
   "source": [
    "## Align, combine, subset EPA radon, uranium data and US Census GIS data"
   ]
  },
  {
   "cell_type": "markdown",
   "id": "06819c51-5a2c-4c93-a38f-65090a52766a",
   "metadata": {},
   "source": [
    "### Notebook setup"
   ]
  },
  {
   "cell_type": "code",
   "execution_count": null,
   "id": "2fe0ea6e",
   "metadata": {
    "tags": []
   },
   "outputs": [],
   "source": [
    "# import all libraries used in this notebook\n",
    "import os\n",
    "import numpy as np\n",
    "import pandas as pd\n",
    "import geopandas as gpd"
   ]
  },
  {
   "cell_type": "markdown",
   "id": "68172a6e",
   "metadata": {},
   "source": [
    "### State/EPA Residiental Survey (SRRS) datasets\n",
    "\n",
    "The rawest form of the radon data was collected and archived by Phil Price and is available here:\n",
    "http://www.stat.columbia.edu/~gelman/arm/examples/radon_complete\n",
    "\n",
    "\n",
    "* The documentation is in file http://www.stat.columbia.edu/~gelman/arm/examples/radon_complete/SRRSdoc.pdf\n",
    "\n",
    "* There are 5 files, srrs1.dat through srrs5.dat  - but data is duplicated between them.\n",
    "\n",
    "* This directory also contains data from both national survey - NRRS - and state surveys - cf. https://link.springer.com/article/10.1007/BF02034901.   This is in a different format and is\n",
    "not used in Gelman and Hill analysis.\n",
    "\n",
    "* README notes that files are old backups, things may be missing.\n",
    "\n",
    "The combined de-duplicated SRRS dataset is in file  [srrs_all.csv](data/srrs_all.csv)\n",
    "\n",
    "*State counties and tribal lands*\n",
    "\n",
    "The SRRS dataset contains observations taken from Indian lands.\n",
    "The county-level information for these entries doesn't line up with US FIPS data -\n",
    "the names and county codes don't align.\n",
    "Indian lands have column 'STATE' code R5, R6, R7, RB, RC, RN.\n",
    "The regions cross state boundaries - for example,\n",
    "EPA region 5 covers Indian lands in MN, WI, and MI:\n",
    "https://www.epa.gov/sites/default/files/2015-08/documents/r5-tribal-land-map.pdf.\n",
    "\n",
    "Data in state counties in file [radon_all_states.csv](data/radon_all_states.csv).\n",
    "\n",
    "Data from Indian lands is in file [radon_indg_lands.csv](data/radon_indg.csv).\n"
   ]
  },
  {
   "cell_type": "markdown",
   "id": "bc3798cf-5e30-4531-afad-d348fc5b1449",
   "metadata": {},
   "source": [
    "### US census county boundaries GIS files\n",
    "\n",
    "The US Census provides shapefiles for the US, including Alaska, Hawaii, and territories.  We can use these to visualize radon and uranium levels."
   ]
  },
  {
   "cell_type": "code",
   "execution_count": null,
   "id": "4f07daae-74a1-431a-8255-04bd1f29670d",
   "metadata": {},
   "outputs": [],
   "source": [
    "shpfile = os.path.join('geo_data','cb_2018_us_county_20m', 'cb_2018_us_county_20m.shp')\n",
    "us_geodata = gpd.read_file(shpfile)\n",
    "# GEOID should be numeric\n",
    "us_geodata = us_geodata.astype({'GEOID': 'int32'}, copy=False)\n",
    "print(us_geodata.shape[0])\n",
    "us_geodata.head(3)"
   ]
  },
  {
   "cell_type": "markdown",
   "id": "6548b6aa",
   "metadata": {},
   "source": [
    "### EPA/State Residential Radon Data"
   ]
  },
  {
   "cell_type": "code",
   "execution_count": null,
   "id": "2c67d0f1",
   "metadata": {},
   "outputs": [],
   "source": [
    "us_radon = pd.read_csv(os.path.join('data','radon_all_counties.csv'),\n",
    "                     usecols=['state', 'stfips', 'floor', 'activity', 'cntyfips'],\n",
    "                     skipinitialspace=True,    # CSV file has spaces after delimiter, ignore them\n",
    "    ).convert_dtypes()\n",
    "print(us_radon.shape)\n",
    "us_radon.head(3)"
   ]
  },
  {
   "cell_type": "markdown",
   "id": "3c89b204",
   "metadata": {},
   "source": [
    "**datacleanup**\n",
    "\n",
    "Colorado and CT have data with cntyfips codes '0' and '999'.   Dropping for now."
   ]
  },
  {
   "cell_type": "code",
   "execution_count": null,
   "id": "d62fa643",
   "metadata": {},
   "outputs": [],
   "source": [
    "us_radon.drop(us_radon[us_radon.cntyfips==0].index, inplace=True)\n",
    "us_radon.drop(us_radon[us_radon.cntyfips==999].index, inplace=True)\n",
    "print(us_radon.shape)"
   ]
  },
  {
   "cell_type": "markdown",
   "id": "e78557c8-db6a-4bbd-a6a4-071e9d013ec8",
   "metadata": {},
   "source": [
    "### US county soil uranium levels\n",
    "\n",
    "Also distributed from Gelman website."
   ]
  },
  {
   "cell_type": "code",
   "execution_count": null,
   "id": "c7cdc9bd",
   "metadata": {},
   "outputs": [],
   "source": [
    "us_uranium = pd.read_csv(os.path.join('data','raw_uranium.csv'),\n",
    "                        usecols=['st', 'stfips', 'ctfips', 'Uppm'],\n",
    "                        skipinitialspace=True,\n",
    "                        ).drop_duplicates().convert_dtypes()\n",
    "print(us_uranium.shape[0])\n",
    "us_uranium.head(3)"
   ]
  },
  {
   "cell_type": "markdown",
   "id": "93402d8a-4b4d-4e92-bd69-6fa008045cc3",
   "metadata": {},
   "source": [
    "### Join and merge tables using US FIPS codes\n",
    "\n",
    "To join or merge tables, we need to create a common key in both, then\n",
    "use the [DataFrame.merge](https://pandas.pydata.org/docs/reference/api/pandas.DataFrame.merge.html) method.\n",
    "\n",
    "\n",
    "We have three datasets:  SRRS survey data, soil uranium measurements, and geodata.\n",
    "All files use different capitalization and punctuation for county names.\n",
    "Therefore we rely on \n",
    "[FIPS code](https://transition.fcc.gov/oet/info/maps/census/fips/fips.txt),\n",
    "which uniquely identify geographic areas. \n",
    "The US census datasets have \"GEOID\" code, the first 2 digits of which are the state FIPS code, the last 3 are the county-level FIPS code.\n",
    "The other datasets have separate columns for stats and county codes."
   ]
  },
  {
   "cell_type": "code",
   "execution_count": null,
   "id": "41668fc1-a0c9-41a0-9ae7-9b44cb4127dc",
   "metadata": {},
   "outputs": [],
   "source": [
    "# create merge column\n",
    "us_uranium['FIPS'] = us_uranium.stfips*1000 + us_uranium.ctfips\n",
    "us_radon['FIPS'] = us_radon.stfips*1000 + us_radon.cntyfips"
   ]
  },
  {
   "cell_type": "markdown",
   "id": "06c27212",
   "metadata": {},
   "source": [
    "### County level information:   uranium, number of homes in radon survey, census county name\n",
    "\n",
    "We create a new table which contains county-level information from across the three datasets."
   ]
  },
  {
   "cell_type": "code",
   "execution_count": null,
   "id": "29923eaf",
   "metadata": {},
   "outputs": [],
   "source": [
    "us_counties = us_uranium.merge(us_geodata[['GEOID', 'NAME']],\n",
    "                               how='inner', left_on='FIPS', right_on='GEOID')\n",
    "\n",
    "homes = us_radon.value_counts(subset=['FIPS'], sort=False).to_frame().reset_index()\n",
    "homes.rename(columns={0:'homes'}, inplace=True)\n",
    "\n",
    "us_counties = us_counties.merge(homes, how='left', on='FIPS')\n",
    "us_counties.fillna(0, inplace=True)\n",
    "\n",
    "us_counties.drop(columns=['stfips', 'ctfips', 'GEOID'], inplace=True)\n",
    "us_counties.rename(columns={'st': 'state', 'NAME':'county', 'Uppm':'uranium'}, inplace=True)\n",
    "\n",
    "print(us_counties.shape[0])\n",
    "us_counties.head(3)"
   ]
  },
  {
   "cell_type": "code",
   "execution_count": null,
   "id": "b5a51fd7",
   "metadata": {},
   "outputs": [],
   "source": [
    "us_counties[us_counties.state=='MN'].shape"
   ]
  },
  {
   "cell_type": "markdown",
   "id": "c3a1505f",
   "metadata": {},
   "source": [
    "#### Put data on log scale\n",
    "\n",
    "Following Gelman and Hill chapter 4, section 4, we work with data on the log scale,\n",
    "for two reasons\n",
    "\n",
    "+ the outcome variable log_radon is always positive.\n",
    "+ it provides modeling flexibility.\n",
    "\n",
    "We know from geology that both radon measurements and soil uranium levels are always greater than zero,\n",
    "however a few radon measurements in the EPA dataset are 0.\n",
    "In order to be able to work with these measurements on the log scale, we replace 0 with 0.1,\n",
    "which corresponds to a low radon level (following Gelman and Hill)."
   ]
  },
  {
   "cell_type": "code",
   "execution_count": null,
   "id": "4137f5ff",
   "metadata": {},
   "outputs": [],
   "source": [
    "us_radon['radon'] = us_radon.activity.apply(lambda x: x if x > 0.1 else 0.1)\n",
    "us_radon['log_radon'] = np.log(us_radon['radon'])\n",
    "us_radon.drop(columns=['activity', 'stfips', 'cntyfips'], inplace=True)\n",
    "us_radon.head(3)"
   ]
  },
  {
   "cell_type": "code",
   "execution_count": null,
   "id": "20f5742d",
   "metadata": {},
   "outputs": [],
   "source": [
    "us_counties.uranium.fillna(0.1, inplace=True)\n",
    "us_counties['u'] = us_counties.uranium.apply(lambda x: x if x > 0.1 else 0.1)\n",
    "us_counties['log_uranium'] = np.log(us_counties['u'])\n",
    "us_counties.drop(columns=['u'], inplace=True)\n",
    "us_counties.head(3)"
   ]
  },
  {
   "cell_type": "markdown",
   "id": "5b137c20",
   "metadata": {},
   "source": [
    "### Restrict dataset to Minnesota\n",
    "\n",
    "In order to work with just the data from Minnesota, we use a \n",
    "use a conditional expression to [filter specific rows of a dataframe](https://pandas.pydata.org/docs/getting_started/intro_tutorials/03_subset_data.html#how-do-i-filter-specific-rows-from-a-dataframe), combined with operation [reset_index(drop=True)](https://pandas.pydata.org/docs/reference/api/pandas.DataFrame.reset_index.html?highlight=reset_index#pandas.DataFrame.reset_index) so that the rows are indexed starting from 0."
   ]
  },
  {
   "cell_type": "code",
   "execution_count": null,
   "id": "e5df7c39",
   "metadata": {},
   "outputs": [],
   "source": [
    "mn_radon = us_radon[us_radon['state']=='MN'].reset_index(drop=True)\n",
    "mn_radon.drop(columns=['state'], inplace=True)\n",
    "mn_radon = mn_radon.merge(us_counties[['FIPS', 'county']], on='FIPS')\n",
    "mn_radon = mn_radon.sort_values(by='county', axis=0).reset_index(drop=True)\n",
    "mn_radon.head(3)"
   ]
  },
  {
   "cell_type": "code",
   "execution_count": null,
   "id": "8643e3d4",
   "metadata": {},
   "outputs": [],
   "source": [
    "mn_counties = us_counties[us_counties['state']=='MN'].reset_index(drop=True)\n",
    "mn_counties.drop(columns=['state'], inplace=True)\n",
    "mn_counties.head(3)"
   ]
  },
  {
   "cell_type": "markdown",
   "id": "c4c5f573-e008-4aa4-bd15-74603df7edec",
   "metadata": {},
   "source": [
    "#### Unique county ids"
   ]
  },
  {
   "cell_type": "code",
   "execution_count": null,
   "id": "20e68449",
   "metadata": {},
   "outputs": [],
   "source": [
    "# super clunky to index offset from 1\n",
    "mn_counties.reset_index(inplace=True)\n",
    "mn_counties['county_id'] = mn_counties.index + 1\n",
    "mn_counties.drop(columns=['index'], inplace=True)\n",
    "mn_counties.head(3)"
   ]
  },
  {
   "cell_type": "markdown",
   "id": "d91947f1",
   "metadata": {},
   "source": [
    "Add county ids to radon data as well."
   ]
  },
  {
   "cell_type": "code",
   "execution_count": null,
   "id": "9d68e3a8",
   "metadata": {},
   "outputs": [],
   "source": [
    "mn_radon = mn_radon.merge(mn_counties[['FIPS', 'county_id']], on='FIPS')\n",
    "mn_radon.head(3)"
   ]
  },
  {
   "cell_type": "markdown",
   "id": "394c9602",
   "metadata": {},
   "source": [
    "**Save as CSV files**\n",
    "\n",
    "These files are already part of this notebook, therefore calls to the  [pandas.to_csv](https://pandas.pydata.org/docs/reference/api/pandas.DataFrame.to_csv.html?highlight=to_csv#pandas.DataFrame.to_csv) method have been commented out."
   ]
  },
  {
   "cell_type": "code",
   "execution_count": null,
   "id": "b04aea68",
   "metadata": {},
   "outputs": [],
   "source": [
    "# uncomment as needed\n",
    "# mn_radon.to_csv(os.path.join('data', 'mn_radon.csv'), index=False)\n",
    "# mn_counties.to_csv(os.path.join('data', 'mn_counties.csv'), index=False)\n",
    "\n",
    "# us_radon.to_csv(os.path.join('data', 'us_radon.csv'), index=False)\n",
    "# us_counties.to_csv(os.path.join('data', 'us_counties.csv'), index=False)"
   ]
  }
 ],
 "metadata": {
  "hide_input": false,
  "kernelspec": {
   "display_name": "Python 3",
   "language": "python",
   "name": "python3"
  },
  "language_info": {
   "codemirror_mode": {
    "name": "ipython",
    "version": 3
   },
   "file_extension": ".py",
   "mimetype": "text/x-python",
   "name": "python",
   "nbconvert_exporter": "python",
   "pygments_lexer": "ipython3",
   "version": "3.9.13"
  },
  "toc": {
   "base_numbering": 1,
   "nav_menu": {},
   "number_sections": false,
   "sideBar": true,
   "skip_h1_title": true,
   "title_cell": "Table of Contents",
   "title_sidebar": "Contents",
   "toc_cell": true,
   "toc_position": {},
   "toc_section_display": true,
   "toc_window_display": false
  }
 },
 "nbformat": 4,
 "nbformat_minor": 5
}
